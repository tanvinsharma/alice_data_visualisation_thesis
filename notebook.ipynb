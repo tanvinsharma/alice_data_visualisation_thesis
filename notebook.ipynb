{
 "cells": [
  {
   "cell_type": "code",
   "execution_count": 1,
   "id": "8242c532-f851-4538-b396-833d8c63a843",
   "metadata": {},
   "outputs": [],
   "source": [
    "import numpy as np\n",
    "from pythreejs import *\n",
    "from IPython.display import display\n",
    "from ipywidgets import VBox, HBox, Checkbox, jslink\n",
    "from pythreejs._example_helper import use_example_model_ids\n",
    "use_example_model_ids()\n",
    "\n",
    "import ipywidgets as widgets\n",
    "import ipyvolume as ipv"
   ]
  },
  {
   "cell_type": "code",
   "execution_count": 2,
   "id": "cfc1320e-b721-4dbc-8ffe-98c530a052da",
   "metadata": {},
   "outputs": [],
   "source": [
    "with open('/Users/tanvinsharma/Desktop/cern thesis/tracks1635345855523.json') as file:\n",
    "\tdb = json.load(file)"
   ]
  },
  {
   "cell_type": "code",
   "execution_count": 3,
   "id": "712e9432-82f1-427d-88f3-e0a0da0f2419",
   "metadata": {},
   "outputs": [],
   "source": [
    "x_values = {}\n",
    "y_values = {}\n",
    "z_values = {}\n",
    "c = 0\n",
    "charge = []\n",
    "for track in db['mTracks']:\n",
    "\tx = []\n",
    "\ty = []\n",
    "\tz = []\n",
    "\tfor element in track['mClusters']:\n",
    "\t\tx.append(element['X'])\n",
    "\t\ty.append(element['Y'])\n",
    "\t\tz.append(element['Z'])\n",
    "\tx_values[c] = x\n",
    "\ty_values[c] = y\n",
    "\tz_values[c] = z\n",
    "\tcharge.append((c, track['charge']))\n",
    "\tc += 1\n",
    "\n",
    "# list_of_points = []\n",
    "# for track in db['mTracks']:\n",
    "#     for element in track['mClusters']:\n",
    "#             point = []\n",
    "#             point.append(element['X'])\n",
    "#             point.append(element['Y'])\n",
    "#             point.append(element['Z'])\n",
    "#     list_of_points.append(point)"
   ]
  },
  {
   "cell_type": "code",
   "execution_count": 9,
   "id": "4e99dc0a",
   "metadata": {},
   "outputs": [
    {
     "ename": "StopIteration",
     "evalue": "",
     "output_type": "error",
     "traceback": [
      "\u001b[0;31m---------------------------------------------------------------------------\u001b[0m",
      "\u001b[0;31mStopIteration\u001b[0m                             Traceback (most recent call last)",
      "\u001b[0;32m/var/folders/9j/1g62jjgs40z1ddkdzw3fx5dh0000gn/T/ipykernel_57681/2390284736.py\u001b[0m in \u001b[0;36m<module>\u001b[0;34m\u001b[0m\n\u001b[1;32m      6\u001b[0m             \u001b[0mcharge_value\u001b[0m \u001b[0;34m=\u001b[0m \u001b[0ma_tuple\u001b[0m\u001b[0;34m[\u001b[0m\u001b[0;36m1\u001b[0m\u001b[0;34m]\u001b[0m\u001b[0;34m\u001b[0m\u001b[0;34m\u001b[0m\u001b[0m\n\u001b[1;32m      7\u001b[0m     \u001b[0;32mif\u001b[0m \u001b[0mcharge_value\u001b[0m \u001b[0;34m==\u001b[0m \u001b[0;36m1\u001b[0m\u001b[0;34m:\u001b[0m\u001b[0;34m\u001b[0m\u001b[0;34m\u001b[0m\u001b[0m\n\u001b[0;32m----> 8\u001b[0;31m         \u001b[0mipv\u001b[0m\u001b[0;34m.\u001b[0m\u001b[0mfigure\u001b[0m\u001b[0;34m(\u001b[0m\u001b[0;34m)\u001b[0m\u001b[0;34m\u001b[0m\u001b[0;34m\u001b[0m\u001b[0m\n\u001b[0m\u001b[1;32m      9\u001b[0m         \u001b[0mx\u001b[0m \u001b[0;34m=\u001b[0m \u001b[0mnp\u001b[0m\u001b[0;34m.\u001b[0m\u001b[0marray\u001b[0m\u001b[0;34m(\u001b[0m\u001b[0mx_values\u001b[0m\u001b[0;34m[\u001b[0m\u001b[0mi\u001b[0m\u001b[0;34m]\u001b[0m\u001b[0;34m)\u001b[0m\u001b[0;34m\u001b[0m\u001b[0;34m\u001b[0m\u001b[0m\n\u001b[1;32m     10\u001b[0m         \u001b[0my\u001b[0m \u001b[0;34m=\u001b[0m \u001b[0mnp\u001b[0m\u001b[0;34m.\u001b[0m\u001b[0marray\u001b[0m\u001b[0;34m(\u001b[0m\u001b[0my_values\u001b[0m\u001b[0;34m[\u001b[0m\u001b[0mi\u001b[0m\u001b[0;34m]\u001b[0m\u001b[0;34m)\u001b[0m\u001b[0;34m\u001b[0m\u001b[0;34m\u001b[0m\u001b[0m\n",
      "\u001b[0;32m~/Desktop/cern thesis/venv/lib/python3.9/site-packages/ipyvolume/pylab.py\u001b[0m in \u001b[0;36mfigure\u001b[0;34m(key, width, height, lighting, controls, controls_vr, controls_light, debug, **kwargs)\u001b[0m\n\u001b[1;32m    105\u001b[0m         \u001b[0mcurrent\u001b[0m\u001b[0;34m.\u001b[0m\u001b[0mcontainer\u001b[0m \u001b[0;34m=\u001b[0m \u001b[0mcurrent\u001b[0m\u001b[0;34m.\u001b[0m\u001b[0mcontainers\u001b[0m\u001b[0;34m[\u001b[0m\u001b[0mkey\u001b[0m\u001b[0;34m]\u001b[0m\u001b[0;34m\u001b[0m\u001b[0;34m\u001b[0m\u001b[0m\n\u001b[1;32m    106\u001b[0m     \u001b[0;32melse\u001b[0m\u001b[0;34m:\u001b[0m\u001b[0;34m\u001b[0m\u001b[0;34m\u001b[0m\u001b[0m\n\u001b[0;32m--> 107\u001b[0;31m         \u001b[0mcurrent\u001b[0m\u001b[0;34m.\u001b[0m\u001b[0mfigure\u001b[0m \u001b[0;34m=\u001b[0m \u001b[0mipv\u001b[0m\u001b[0;34m.\u001b[0m\u001b[0mFigure\u001b[0m\u001b[0;34m(\u001b[0m\u001b[0mwidth\u001b[0m\u001b[0;34m=\u001b[0m\u001b[0mwidth\u001b[0m\u001b[0;34m,\u001b[0m \u001b[0mheight\u001b[0m\u001b[0;34m=\u001b[0m\u001b[0mheight\u001b[0m\u001b[0;34m,\u001b[0m \u001b[0;34m**\u001b[0m\u001b[0mkwargs\u001b[0m\u001b[0;34m)\u001b[0m\u001b[0;34m\u001b[0m\u001b[0;34m\u001b[0m\u001b[0m\n\u001b[0m\u001b[1;32m    108\u001b[0m         \u001b[0mcurrent\u001b[0m\u001b[0;34m.\u001b[0m\u001b[0mcontainer\u001b[0m \u001b[0;34m=\u001b[0m \u001b[0mipywidgets\u001b[0m\u001b[0;34m.\u001b[0m\u001b[0mVBox\u001b[0m\u001b[0;34m(\u001b[0m\u001b[0;34m)\u001b[0m\u001b[0;34m\u001b[0m\u001b[0;34m\u001b[0m\u001b[0m\n\u001b[1;32m    109\u001b[0m         \u001b[0mcurrent\u001b[0m\u001b[0;34m.\u001b[0m\u001b[0mcontainer\u001b[0m\u001b[0;34m.\u001b[0m\u001b[0mchildren\u001b[0m \u001b[0;34m=\u001b[0m \u001b[0;34m[\u001b[0m\u001b[0mcurrent\u001b[0m\u001b[0;34m.\u001b[0m\u001b[0mfigure\u001b[0m\u001b[0;34m]\u001b[0m\u001b[0;34m\u001b[0m\u001b[0;34m\u001b[0m\u001b[0m\n",
      "\u001b[0;32m~/Desktop/cern thesis/venv/lib/python3.9/site-packages/ipyvolume/widgets.py\u001b[0m in \u001b[0;36m__init__\u001b[0;34m(self, **kwargs)\u001b[0m\n\u001b[1;32m    261\u001b[0m \u001b[0;34m\u001b[0m\u001b[0m\n\u001b[1;32m    262\u001b[0m     \u001b[0;32mdef\u001b[0m \u001b[0m__init__\u001b[0m\u001b[0;34m(\u001b[0m\u001b[0mself\u001b[0m\u001b[0;34m,\u001b[0m \u001b[0;34m**\u001b[0m\u001b[0mkwargs\u001b[0m\u001b[0;34m)\u001b[0m\u001b[0;34m:\u001b[0m\u001b[0;34m\u001b[0m\u001b[0;34m\u001b[0m\u001b[0m\n\u001b[0;32m--> 263\u001b[0;31m         \u001b[0msuper\u001b[0m\u001b[0;34m(\u001b[0m\u001b[0mFigure\u001b[0m\u001b[0;34m,\u001b[0m \u001b[0mself\u001b[0m\u001b[0;34m)\u001b[0m\u001b[0;34m.\u001b[0m\u001b[0m__init__\u001b[0m\u001b[0;34m(\u001b[0m\u001b[0;34m**\u001b[0m\u001b[0mkwargs\u001b[0m\u001b[0;34m)\u001b[0m\u001b[0;34m\u001b[0m\u001b[0;34m\u001b[0m\u001b[0m\n\u001b[0m\u001b[1;32m    264\u001b[0m         \u001b[0mself\u001b[0m\u001b[0;34m.\u001b[0m\u001b[0m_screenshot_handlers\u001b[0m \u001b[0;34m=\u001b[0m \u001b[0mwidgets\u001b[0m\u001b[0;34m.\u001b[0m\u001b[0mCallbackDispatcher\u001b[0m\u001b[0;34m(\u001b[0m\u001b[0;34m)\u001b[0m\u001b[0;34m\u001b[0m\u001b[0;34m\u001b[0m\u001b[0m\n\u001b[1;32m    265\u001b[0m         \u001b[0mself\u001b[0m\u001b[0;34m.\u001b[0m\u001b[0m_selection_handlers\u001b[0m \u001b[0;34m=\u001b[0m \u001b[0mwidgets\u001b[0m\u001b[0;34m.\u001b[0m\u001b[0mCallbackDispatcher\u001b[0m\u001b[0;34m(\u001b[0m\u001b[0;34m)\u001b[0m\u001b[0;34m\u001b[0m\u001b[0;34m\u001b[0m\u001b[0m\n",
      "\u001b[0;32m~/Desktop/cern thesis/venv/lib/python3.9/site-packages/pythreejs/_example_helper.py\u001b[0m in \u001b[0;36mnew_init\u001b[0;34m(self, *args, **kwargs)\u001b[0m\n\u001b[1;32m     10\u001b[0m     \u001b[0mid_gen\u001b[0m \u001b[0;34m=\u001b[0m \u001b[0mexample_id_gen\u001b[0m\u001b[0;34m(\u001b[0m\u001b[0;34m)\u001b[0m\u001b[0;34m\u001b[0m\u001b[0;34m\u001b[0m\u001b[0m\n\u001b[1;32m     11\u001b[0m     \u001b[0;32mdef\u001b[0m \u001b[0mnew_init\u001b[0m\u001b[0;34m(\u001b[0m\u001b[0mself\u001b[0m\u001b[0;34m,\u001b[0m \u001b[0;34m*\u001b[0m\u001b[0margs\u001b[0m\u001b[0;34m,\u001b[0m \u001b[0;34m**\u001b[0m\u001b[0mkwargs\u001b[0m\u001b[0;34m)\u001b[0m\u001b[0;34m:\u001b[0m\u001b[0;34m\u001b[0m\u001b[0;34m\u001b[0m\u001b[0m\n\u001b[0;32m---> 12\u001b[0;31m         \u001b[0mkwargs\u001b[0m\u001b[0;34m[\u001b[0m\u001b[0;34m'model_id'\u001b[0m\u001b[0;34m]\u001b[0m \u001b[0;34m=\u001b[0m \u001b[0mnext\u001b[0m\u001b[0;34m(\u001b[0m\u001b[0mid_gen\u001b[0m\u001b[0;34m)\u001b[0m\u001b[0;34m\u001b[0m\u001b[0;34m\u001b[0m\u001b[0m\n\u001b[0m\u001b[1;32m     13\u001b[0m         \u001b[0mold_init\u001b[0m\u001b[0;34m(\u001b[0m\u001b[0mself\u001b[0m\u001b[0;34m,\u001b[0m \u001b[0;34m*\u001b[0m\u001b[0margs\u001b[0m\u001b[0;34m,\u001b[0m \u001b[0;34m**\u001b[0m\u001b[0mkwargs\u001b[0m\u001b[0;34m)\u001b[0m\u001b[0;34m\u001b[0m\u001b[0;34m\u001b[0m\u001b[0m\n\u001b[1;32m     14\u001b[0m     \u001b[0mWidget\u001b[0m\u001b[0;34m.\u001b[0m\u001b[0m__init__\u001b[0m \u001b[0;34m=\u001b[0m \u001b[0mnew_init\u001b[0m\u001b[0;34m\u001b[0m\u001b[0;34m\u001b[0m\u001b[0m\n",
      "\u001b[0;31mStopIteration\u001b[0m: "
     ]
    }
   ],
   "source": [
    "# x, y, z = np.random.normal(size=(3, 100))\n",
    "fig = ipv.figure()\n",
    "for i in range(c):\n",
    "    for a_tuple in charge:\n",
    "        if i == a_tuple[0]:\n",
    "            charge_value = a_tuple[1]\n",
    "    if charge_value == 1:\n",
    "        ipv.figure()\n",
    "        x = np.array(x_values[i])\n",
    "        y = np.array(y_values[i])\n",
    "        z = np.array(z_values[i])\n",
    "        ipv.plot(x, y, z, color = 'blue')\n",
    "\n",
    "# x = np.array(x_values[1])\n",
    "# y = np.array(y_values[1])\n",
    "# z = np.array(z_values[1])\n",
    "# fig = ipv.figure()\n",
    "\n",
    "# line = ipv.plot(x, y, z, color='blue')\n",
    "# scatter = ipv.scatter(x, y, z, marker='point_2d')\n",
    "# scatter.connected = True  # draw connecting lines\n",
    "ipv.show()"
   ]
  },
  {
   "cell_type": "code",
   "execution_count": 10,
   "id": "7110baa2-267a-41e5-adc3-e36289086f4a",
   "metadata": {},
   "outputs": [],
   "source": [
    "# On windows, linewidth of the material has no effect\n",
    "# size = 4\n",
    "# linesgeom = Geometry(vertices=list_of_points,\n",
    "#                           colors = ['red', 'red', 'green', 'green', 'white', 'orange'])\n",
    "# lines = Line(geometry=linesgeom, \n",
    "#              material=LineBasicMaterial(linewidth=5, vertexColors='VertexColors'), \n",
    "#              type='LinePieces',\n",
    "#             )\n",
    "# scene = Scene(children=[\n",
    "#     lines,\n",
    "#     DirectionalLight(color='#ccaabb', position=[0,10,0]),\n",
    "#     AmbientLight(color='#cccccc'),\n",
    "#     ])\n",
    "# c = PerspectiveCamera(position=[10, 10, 10])\n",
    "# renderer = Renderer(camera=c, background='black', background_opacity=1, scene=scene, controls=[OrbitControls(controlling=c)],\n",
    "#                     width=400, height=400)\n",
    "# display(renderer)"
   ]
  },
  {
   "cell_type": "code",
   "execution_count": 7,
   "id": "20d1d3f4-2598-4cad-91a4-c319994db9c6",
   "metadata": {},
   "outputs": [],
   "source": [
    "# g1 = BufferGeometry(\n",
    "#     attributes={\n",
    "#         'position': BufferAttribute(x_values[0], dtype=np.float32), normalized=False),\n",
    "#         'color': BufferAttribute(np.array([\n",
    "#             [1, 0, 0], [1, 0, 0],\n",
    "#             [0, 1, 0], [0, 0, 1]\n",
    "#         ], dtype=np.float32), normalized=False),\n",
    "#     },\n",
    "# )\n",
    "# m1 = LineBasicMaterial(vertexColors='VertexColors', linewidth=10)\n",
    "# line1 = LineSegments(g1, m1)\n",
    "# line1"
   ]
  },
  {
   "cell_type": "code",
   "execution_count": null,
   "id": "6b99f6f2-fa08-4c02-88f5-e9b285f825de",
   "metadata": {},
   "outputs": [],
   "source": []
  }
 ],
 "metadata": {
  "kernelspec": {
   "display_name": "myenv",
   "language": "python",
   "name": "myenv"
  },
  "language_info": {
   "codemirror_mode": {
    "name": "ipython",
    "version": 3
   },
   "file_extension": ".py",
   "mimetype": "text/x-python",
   "name": "python",
   "nbconvert_exporter": "python",
   "pygments_lexer": "ipython3",
   "version": "3.9.8"
  }
 },
 "nbformat": 4,
 "nbformat_minor": 5
}
