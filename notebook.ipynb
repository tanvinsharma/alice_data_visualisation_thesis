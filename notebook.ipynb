{
 "cells": [
  {
   "cell_type": "code",
   "execution_count": 1,
   "id": "8242c532-f851-4538-b396-833d8c63a843",
   "metadata": {},
   "outputs": [],
   "source": [
    "import numpy as np\n",
    "from pythreejs import *\n",
    "from IPython.display import display\n",
    "from ipywidgets import VBox, HBox, Checkbox, jslink\n",
    "from pythreejs._example_helper import use_example_model_ids\n",
    "use_example_model_ids()\n",
    "\n",
    "import ipywidgets as widgets\n",
    "import ipyvolume as ipv"
   ]
  },
  {
   "cell_type": "code",
   "execution_count": 2,
   "id": "cfc1320e-b721-4dbc-8ffe-98c530a052da",
   "metadata": {},
   "outputs": [],
   "source": [
    "with open('/Users/tanvinsharma/Desktop/cern thesis/tracks1635345855523.json') as file:\n",
    "\tdb = json.load(file)"
   ]
  },
  {
   "cell_type": "code",
   "execution_count": 3,
   "id": "712e9432-82f1-427d-88f3-e0a0da0f2419",
   "metadata": {},
   "outputs": [
    {
     "name": "stderr",
     "output_type": "stream",
     "text": [
      "/Users/tanvinsharma/Desktop/cern thesis/venv/lib/python3.9/site-packages/jupyter_client/session.py:716: UserWarning: Message serialization failed with:\n",
      "Out of range float values are not JSON compliant\n",
      "Supporting this message is deprecated in jupyter-client 7, please make sure your message is JSON-compliant\n",
      "  content = self.pack(content)\n"
     ]
    },
    {
     "data": {
      "application/vnd.jupyter.widget-view+json": {
       "model_id": "pythree_example_model_801",
       "version_major": 2,
       "version_minor": 0
      },
      "text/plain": [
       "Renderer(camera=PerspectiveCamera(position=(10.0, 10.0, 10.0), projectionMatrix=(1.0, 0.0, 0.0, 0.0, 0.0, 1.0,…"
      ]
     },
     "metadata": {},
     "output_type": "display_data"
    },
    {
     "data": {
      "text/plain": [
       "\"\\nfor i in range(c):\\n    for a_tuple in charge:\\n        if i == a_tuple[0]:\\n            charge_value = a_tuple[1]\\n    if charge_value == 1:\\n        linesgeom = Geometry(vertices=tracks[i])\\n        line = Line(geometry=linesgeom, \\n             material=LineBasicMaterial(linewidth=5, color='#0000FF', linejoin='round'), \\n             type='LineBasicMaterial',\\n            )\\n        final.append(line)\\n    if charge_value == -1:\\n        linesgeom = Geometry(vertices=tracks[i])\\n        line = Line(geometry=linesgeom, \\n             material=LineBasicMaterial(linewidth=5, color='#FF0000', linejoin='round'), \\n             type='LineBasicMaterial',\\n            )\\n        final.append(line)\\n    if charge_value == 0:\\n        linesgeom = Geometry(vertices=tracks[i])\\n        line = Line(geometry=linesgeom, \\n             material=LineBasicMaterial(linewidth=5, color='000000', linejoin='round'), \\n             type='LineBasicMaterial',\\n            )\\n        final.append(line)\\nall_the_tracks = Group(children=final)\\nscene = Scene(children=[\\n    all_the_tracks,\\n    DirectionalLight(color='#ccaabb', position=[0,0,0]),\\n    AmbientLight(color='#cccccc'),\\n    ])\\nc = PerspectiveCamera(position=[10, 10, 10])\\nrenderer = Renderer(camera=c, background='black', background_opacity=1, scene=scene, controls=[OrbitControls(controlling=c)],\\n                    width=400, height=400)\\ndisplay(renderer)\\n\""
      ]
     },
     "execution_count": 3,
     "metadata": {},
     "output_type": "execute_result"
    }
   ],
   "source": [
    "\n",
    "x_values = {}\n",
    "y_values = {}\n",
    "z_values = {}\n",
    "c = 0\n",
    "charge = []\n",
    "tracks = {}\n",
    "for track in db['mTracks']:\n",
    "    all_points = []\n",
    "    for element in track['mClusters']:\n",
    "        point = (element['X'], element['Y'], element['Z'])\n",
    "        all_points.append(point)\n",
    "    tracks[c] = all_points\n",
    "    charge.append((c, track['charge']))\n",
    "    c+=1\n",
    "for key, value in tracks.items():\n",
    "    tracks[key] = [list(ele) for ele in value]\n",
    "final = []\n",
    "charge_color = {\n",
    "    0: '#000000',\n",
    "    -1: '#FF0000',\n",
    "    1: '#0000FF'\n",
    "}\n",
    "# no_of_red = 0\n",
    "# no_of_blue = 0\n",
    "# no_of_black = 0\n",
    "for i in range(c):\n",
    "    for a_tuple in charge:\n",
    "        if i == a_tuple[0]:\n",
    "            charge_value = a_tuple[1]\n",
    "#         if charge_value == 0:\n",
    "#             no_of_black+=1\n",
    "#         if charge_value == 1:\n",
    "#             no_of_blue+=1\n",
    "#         if charge_value == -1:\n",
    "#             no_of_red+=1\n",
    "    linesgeom = Geometry(vertices=tracks[i])\n",
    "    line = Line(geometry=linesgeom, \n",
    "             material=LineBasicMaterial(linewidth=5, color=charge_color[charge_value], linejoin='round'), \n",
    "             type='LineBasicMaterial',\n",
    "            )\n",
    "    final.append(line) \n",
    "# print(no_of_red)\n",
    "# print(no_of_black\n",
    "#      )\n",
    "# print(no_of_blue)\n",
    "# print(c)\n",
    "linez = Group(children=final)\n",
    "scene = Scene(children=[\n",
    "    linez,\n",
    "    DirectionalLight(color='#ccaabb', position=[0,0,0]),\n",
    "    AmbientLight(color='#cccccc'),\n",
    "    ])\n",
    "c = PerspectiveCamera(position=[10, 10, 10])\n",
    "renderer = Renderer(camera=c, background='black', background_opacity=1, scene=scene, controls=[OrbitControls(controlling=c)],\n",
    "                    width=400, height=400)\n",
    "display(renderer)\n",
    "'''\n",
    "for i in range(c):\n",
    "    for a_tuple in charge:\n",
    "        if i == a_tuple[0]:\n",
    "            charge_value = a_tuple[1]\n",
    "    if charge_value == 1:\n",
    "        linesgeom = Geometry(vertices=tracks[i])\n",
    "        line = Line(geometry=linesgeom, \n",
    "             material=LineBasicMaterial(linewidth=5, color='#0000FF', linejoin='round'), \n",
    "             type='LineBasicMaterial',\n",
    "            )\n",
    "        final.append(line)\n",
    "    if charge_value == -1:\n",
    "        linesgeom = Geometry(vertices=tracks[i])\n",
    "        line = Line(geometry=linesgeom, \n",
    "             material=LineBasicMaterial(linewidth=5, color='#FF0000', linejoin='round'), \n",
    "             type='LineBasicMaterial',\n",
    "            )\n",
    "        final.append(line)\n",
    "    if charge_value == 0:\n",
    "        linesgeom = Geometry(vertices=tracks[i])\n",
    "        line = Line(geometry=linesgeom, \n",
    "             material=LineBasicMaterial(linewidth=5, color='000000', linejoin='round'), \n",
    "             type='LineBasicMaterial',\n",
    "            )\n",
    "        final.append(line)\n",
    "all_the_tracks = Group(children=final)\n",
    "scene = Scene(children=[\n",
    "    all_the_tracks,\n",
    "    DirectionalLight(color='#ccaabb', position=[0,0,0]),\n",
    "    AmbientLight(color='#cccccc'),\n",
    "    ])\n",
    "c = PerspectiveCamera(position=[10, 10, 10])\n",
    "renderer = Renderer(camera=c, background='black', background_opacity=1, scene=scene, controls=[OrbitControls(controlling=c)],\n",
    "                    width=400, height=400)\n",
    "display(renderer)\n",
    "'''\n",
    "\n",
    "# list_of_points = []\n",
    "# for track in db['mTracks']:\n",
    "#     for element in track['mClusters']:\n",
    "#             point = []\n",
    "#             point.append(element['X'])\n",
    "#             point.append(element['Y'])\n",
    "#             point.append(element['Z'])\n",
    "#     list_of_points.append(point)\n",
    "# print(list_of_points)"
   ]
  },
  {
   "cell_type": "code",
   "execution_count": 1,
   "id": "7110baa2-267a-41e5-adc3-e36289086f4a",
   "metadata": {},
   "outputs": [],
   "source": [
    "# linesgeom = Geometry(vertices=tracks[0])\n",
    "# final = []\n",
    "# line1 = Line(geometry=linesgeom, \n",
    "#              material=LineBasicMaterial(linewidth=5, color='#FF0000', linejoin='round'), \n",
    "#              type='LineBasicMaterial',\n",
    "#             )\n",
    "# final.append(line1)\n",
    "# linesgeom2 = Geometry(vertices=tracks[1])\n",
    "# line2 = Line(geometry=linesgeom2, \n",
    "#              material=LineBasicMaterial(linewidth=5, color='#0000FF', linejoin='round'), \n",
    "#              type='LineBasicMaterial',\n",
    "#             )\n",
    "# final.append(line2)\n",
    "# linez = Group(children=final)\n",
    "# scene = Scene(children=[\n",
    "#     linez,\n",
    "#     DirectionalLight(color='#ccaabb', position=[0,0,0]),\n",
    "#     AmbientLight(color='#cccccc'),\n",
    "#     ])\n",
    "# c = PerspectiveCamera(position=[10, 10, 10])\n",
    "# renderer = Renderer(camera=c, background='black', background_opacity=1, scene=scene, controls=[OrbitControls(controlling=c)],\n",
    "#                     width=400, height=400)\n",
    "# display(renderer)"
   ]
  },
  {
   "cell_type": "code",
   "execution_count": 11,
   "id": "4e99dc0a",
   "metadata": {},
   "outputs": [],
   "source": [
    "# x, y, z = np.random.normal(size=(3, 100))\n",
    "# fig = ipv.figure()\n",
    "# for i in range(c):\n",
    "#     for a_tuple in charge:\n",
    "#         if i == a_tuple[0]:\n",
    "#             charge_value = a_tuple[1]\n",
    "#     if charge_value == 1:\n",
    "#         ipv.figure()\n",
    "#         x = np.array(x_values[i])\n",
    "#         y = np.array(y_values[i])\n",
    "#         z = np.array(z_values[i])\n",
    "#         ipv.plot(x, y, z, color = 'blue')\n",
    "\n",
    "# x = np.array(x_values[1])\n",
    "# y = np.array(y_values[1])\n",
    "# z = np.array(z_values[1])\n",
    "# fig = ipv.figure()\n",
    "\n",
    "# line = ipv.plot(x, y, z, color='blue')\n",
    "# scatter = ipv.scatter(x, y, z, marker='point_2d')\n",
    "# scatter.connected = True  # draw connecting lines\n",
    "# ipv.show()"
   ]
  },
  {
   "cell_type": "code",
   "execution_count": null,
   "id": "f3f37ac6",
   "metadata": {},
   "outputs": [],
   "source": []
  },
  {
   "cell_type": "code",
   "execution_count": 19,
   "id": "20d1d3f4-2598-4cad-91a4-c319994db9c6",
   "metadata": {},
   "outputs": [],
   "source": [
    "# g1 = BufferGeometry(\n",
    "#     attributes={\n",
    "#         'position': BufferAttribute(x_values[0], dtype=np.float32), normalized=False),\n",
    "#         'color': BufferAttribute(np.array([\n",
    "#             [1, 0, 0], [1, 0, 0],\n",
    "#             [0, 1, 0], [0, 0, 1]\n",
    "#         ], dtype=np.float32), normalized=False),\n",
    "#     },\n",
    "# )\n",
    "# m1 = LineBasicMaterial(vertexColors='VertexColors', linewidth=10)\n",
    "# line1 = LineSegments(g1, m1)\n",
    "# line1"
   ]
  },
  {
   "cell_type": "code",
   "execution_count": null,
   "id": "6b99f6f2-fa08-4c02-88f5-e9b285f825de",
   "metadata": {},
   "outputs": [],
   "source": []
  }
 ],
 "metadata": {
  "kernelspec": {
   "display_name": "myenv",
   "language": "python",
   "name": "myenv"
  },
  "language_info": {
   "codemirror_mode": {
    "name": "ipython",
    "version": 3
   },
   "file_extension": ".py",
   "mimetype": "text/x-python",
   "name": "python",
   "nbconvert_exporter": "python",
   "pygments_lexer": "ipython3",
   "version": "3.9.8"
  }
 },
 "nbformat": 4,
 "nbformat_minor": 5
}
